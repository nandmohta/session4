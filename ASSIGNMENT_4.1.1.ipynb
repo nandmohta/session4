{
 "cells": [
  {
   "cell_type": "code",
   "execution_count": 6,
   "metadata": {},
   "outputs": [
    {
     "name": "stdout",
     "output_type": "stream",
     "text": [
      "\n",
      "Please ensure you enter DIGITS and not STRING values\n",
      "\n",
      "Please enter the lengtha of side a: 2\n",
      "Please enter the lengtha of side b: 4\n",
      "Please enter the lengtha of side c: 8\n",
      "\n",
      "Aread of Triangle is : (6.274447728276471e-16+10.246950765959598j) \n"
     ]
    }
   ],
   "source": [
    "# Problem 1.1: Calculate area of triangle using Class Concepts\n",
    "class Triangle:\n",
    "    '''\n",
    "    Class Triange that has gets the inputs of side a, b and c\n",
    "    '''\n",
    "    def __init__(self):\n",
    "        \n",
    "        isInputCompleted = False # To check if inputs entered are in Int or float and not string\n",
    "        \n",
    "        #Loop to continue till all values for the sides entered are Digits and not string\n",
    "        \n",
    "        while(not(isInputCompleted)):\n",
    "            try:\n",
    "                print(f'\\nPlease ensure you enter DIGITS and not STRING values\\n')\n",
    "                self.sidea = float(input(\"Please enter the lengtha of side a: \"))\n",
    "                self.sideb = float(input(\"Please enter the lengtha of side b: \"))\n",
    "                self.sidec = float(input(\"Please enter the lengtha of side c: \"))\n",
    "                isInputCompleted = True\n",
    "            except Exception:\n",
    "                print('Please Ensure you Enter ')\n",
    "                isInputCompleted = False\n",
    "\n",
    "    def __str__(self):\n",
    "        return \"Length of Side a is %d, Length of Side b is %d, Length of Side c is %d\" %(self.sidea, self.sideb, self.sidec)\n",
    "\n",
    "class TriangleArea(Triangle):\n",
    "    '''\n",
    "    Class Triange Area which takes is of type Triange and has methods that calculate Area\n",
    "    \n",
    "    '''\n",
    "    def __init__(self, *args, **kwargs):\n",
    "        super(TriangleArea,self).__init__(*args,**kwargs)\n",
    "    \n",
    "    def area(self):\n",
    "        '''\n",
    "        This method calcualtes the area of the triangle for the inputs provided by the user\n",
    "        \n",
    "        '''\n",
    "        area=0 \n",
    "        #S=(a+b+c)/2\n",
    "        s = (int(self.sidea) + int(self.sideb) + int(self.sidec) )/2\n",
    "        #area of triangle (s*(s-a)(s-b)(s-b))/2\n",
    "        area = (s*(s-int(self.sidea))*(s-int(self.sideb))*(s-int(self.sidec)))** 0.5\n",
    "        return area\n",
    "\n",
    "triangle = TriangleArea()\n",
    "\n",
    "print('\\nAread of Triangle is : %s ' %triangle.area())"
   ]
  },
  {
   "cell_type": "code",
   "execution_count": null,
   "metadata": {},
   "outputs": [],
   "source": []
  }
 ],
 "metadata": {
  "kernelspec": {
   "display_name": "Python 3",
   "language": "python",
   "name": "python3"
  },
  "language_info": {
   "codemirror_mode": {
    "name": "ipython",
    "version": 3
   },
   "file_extension": ".py",
   "mimetype": "text/x-python",
   "name": "python",
   "nbconvert_exporter": "python",
   "pygments_lexer": "ipython3",
   "version": "3.6.5"
  }
 },
 "nbformat": 4,
 "nbformat_minor": 2
}
