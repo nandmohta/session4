{
 "cells": [
  {
   "cell_type": "code",
   "execution_count": 1,
   "metadata": {},
   "outputs": [],
   "source": [
    "# Problem 1.1: Calculate area of triangle using Class Concepts"
   ]
  },
  {
   "cell_type": "code",
   "execution_count": 2,
   "metadata": {},
   "outputs": [
    {
     "name": "stdout",
     "output_type": "stream",
     "text": [
      "Please enter the lengtha of side a: 2\n",
      "Please enter the lengtha of side b: 3\n",
      "Please enter the lengtha of side c: 4\n",
      "\n",
      "Aread of Triangle is : 2.9047375096555625 \n"
     ]
    }
   ],
   "source": [
    "class Triangle:\n",
    "    def __init__(self):\n",
    "        self.sidea = input(\"Please enter the lengtha of side a: \")\n",
    "        self.sideb = input(\"Please enter the lengtha of side b: \")\n",
    "        self.sidec = input(\"Please enter the lengtha of side c: \")\n",
    "\n",
    "    def __str__(self):\n",
    "        return \"Length of Side a is %d, Length of Side b is %d, Length of Side c is %d\" %(self.sidea, self.sideb, self.sidec)\n",
    "\n",
    "class TriangleArea(Triangle):\n",
    "    def __init__(self, *args, **kwargs):\n",
    "        super(TriangleArea,self).__init__(*args,**kwargs)\n",
    "    def area(self):\n",
    "        area=0 \n",
    "        s = (int(self.sidea) + int(self.sideb) + int(self.sidec) )/2\n",
    "        area = (s*(s-int(self.sidea))*(s-int(self.sideb))*(s-int(self.sidec)))** 0.5\n",
    "        return area\n",
    "\n",
    "triangle = TriangleArea()\n",
    "\n",
    "print('\\nAread of Triangle is : %s ' %triangle.area())"
   ]
  }
 ],
 "metadata": {
  "kernelspec": {
   "display_name": "Python 3",
   "language": "python",
   "name": "python3"
  },
  "language_info": {
   "codemirror_mode": {
    "name": "ipython",
    "version": 3
   },
   "file_extension": ".py",
   "mimetype": "text/x-python",
   "name": "python",
   "nbconvert_exporter": "python",
   "pygments_lexer": "ipython3",
   "version": "3.6.5"
  }
 },
 "nbformat": 4,
 "nbformat_minor": 2
}
