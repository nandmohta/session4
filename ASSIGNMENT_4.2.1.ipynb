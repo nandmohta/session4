{
 "cells": [
  {
   "cell_type": "code",
   "execution_count": 1,
   "metadata": {},
   "outputs": [
    {
     "name": "stdout",
     "output_type": "stream",
     "text": [
      "Words in the List [2, 5, 9, 16, 1, 1, 3]\n"
     ]
    }
   ],
   "source": [
    "# Problem 2.1 Program that maps list of words into list of integers representing the length of corresponding words\n",
    "\n",
    "def map_words_len(wordlst):\n",
    "    '''\n",
    "    Function that returns list of length of words in the wordlist provided\n",
    "    INPUT: wordlst = Word List\n",
    "    OUTPUT: List of the length of words\n",
    "    \n",
    "    '''\n",
    "    return [len(i) for i in wordlst]\n",
    "        \n",
    "wordlist = ['hi','hello','how are u', 'what are u doing','i','d','tod']\n",
    "\n",
    "print('Words in the List {}'.format(map_words_len(wordlist)))\n"
   ]
  },
  {
   "cell_type": "code",
   "execution_count": null,
   "metadata": {},
   "outputs": [],
   "source": []
  }
 ],
 "metadata": {
  "kernelspec": {
   "display_name": "Python 3",
   "language": "python",
   "name": "python3"
  },
  "language_info": {
   "codemirror_mode": {
    "name": "ipython",
    "version": 3
   },
   "file_extension": ".py",
   "mimetype": "text/x-python",
   "name": "python",
   "nbconvert_exporter": "python",
   "pygments_lexer": "ipython3",
   "version": "3.6.5"
  }
 },
 "nbformat": 4,
 "nbformat_minor": 2
}
