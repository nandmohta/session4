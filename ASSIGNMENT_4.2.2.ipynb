{
 "cells": [
  {
   "cell_type": "code",
   "execution_count": 3,
   "metadata": {},
   "outputs": [
    {
     "name": "stdout",
     "output_type": "stream",
     "text": [
      "Is U Vowel : True\n",
      "Is K Vowel : False\n"
     ]
    }
   ],
   "source": [
    "# Problem 2.2 Program to print if character entered is vowel or not\n",
    "\n",
    "def isvowel(char):\n",
    "    vowels = ['a','e','i','o','u']\n",
    "    for i in range(len(vowels)):\n",
    "        if(char == vowels[i]):\n",
    "            return True\n",
    "    else:\n",
    "        return False\n",
    "        \n",
    "print('Is U Vowel : {}'.format(isvowel('u')))\n",
    "\n",
    "print('Is K Vowel : {}'.format(isvowel('k')))"
   ]
  },
  {
   "cell_type": "code",
   "execution_count": null,
   "metadata": {},
   "outputs": [],
   "source": []
  }
 ],
 "metadata": {
  "kernelspec": {
   "display_name": "Python 3",
   "language": "python",
   "name": "python3"
  },
  "language_info": {
   "codemirror_mode": {
    "name": "ipython",
    "version": 3
   },
   "file_extension": ".py",
   "mimetype": "text/x-python",
   "name": "python",
   "nbconvert_exporter": "python",
   "pygments_lexer": "ipython3",
   "version": "3.6.5"
  }
 },
 "nbformat": 4,
 "nbformat_minor": 2
}
