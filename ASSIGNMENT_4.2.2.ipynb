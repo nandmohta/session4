{
 "cells": [
  {
   "cell_type": "code",
   "execution_count": 9,
   "metadata": {},
   "outputs": [
    {
     "name": "stdout",
     "output_type": "stream",
     "text": [
      "Is U Vowel : True\n",
      "Is K Vowel : False\n"
     ]
    }
   ],
   "source": [
    "# Problem 2.2 Program to print if character entered is vowel or not\n",
    "\n",
    "def isvowel(char):\n",
    "    '''\n",
    "    This method returns if the given character is a vowel or not\n",
    "    INPUT: char\n",
    "    OUPUT: True if char is vowel, False if char is not a vowel\n",
    "    '''\n",
    "    vowels = ['a','e','i','o','u']\n",
    "    return char.lower() in vowels\n",
    "        \n",
    "print('Is U Vowel : {}'.format(isvowel('U')))\n",
    "\n",
    "print('Is K Vowel : {}'.format(isvowel('K')))"
   ]
  },
  {
   "cell_type": "code",
   "execution_count": null,
   "metadata": {},
   "outputs": [],
   "source": [
    "isvowel"
   ]
  }
 ],
 "metadata": {
  "kernelspec": {
   "display_name": "Python 3",
   "language": "python",
   "name": "python3"
  },
  "language_info": {
   "codemirror_mode": {
    "name": "ipython",
    "version": 3
   },
   "file_extension": ".py",
   "mimetype": "text/x-python",
   "name": "python",
   "nbconvert_exporter": "python",
   "pygments_lexer": "ipython3",
   "version": "3.6.5"
  }
 },
 "nbformat": 4,
 "nbformat_minor": 2
}
