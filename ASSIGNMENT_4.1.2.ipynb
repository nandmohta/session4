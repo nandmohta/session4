{
 "cells": [
  {
   "cell_type": "code",
   "execution_count": 1,
   "metadata": {},
   "outputs": [
    {
     "name": "stdout",
     "output_type": "stream",
     "text": [
      "Words having length greater than 3 are ['hello', 'how are u', 'what are u doing']\n"
     ]
    }
   ],
   "source": [
    "# Problem 1.2 Function that takes a list of words and integer n and returns the list of words that are logner than n\n",
    "\n",
    "def find_long_words(wordlst, n):\n",
    "    '''\n",
    "    Function that return the words that are > n\n",
    "    INPUT : wordlst - Wordlist\n",
    "            n - integer \n",
    "    '''\n",
    "    return [i for i in wordlst if len(i) > n ]\n",
    "\n",
    "wordlist = ['hi','hello','how are u', 'what are u doing','i','d','tod']\n",
    "\n",
    "size = 3\n",
    "\n",
    "print(f'Words having length greater than {size} are {find_long_words(wordlist,size)}')"
   ]
  },
  {
   "cell_type": "code",
   "execution_count": null,
   "metadata": {},
   "outputs": [],
   "source": []
  }
 ],
 "metadata": {
  "kernelspec": {
   "display_name": "Python 3",
   "language": "python",
   "name": "python3"
  },
  "language_info": {
   "codemirror_mode": {
    "name": "ipython",
    "version": 3
   },
   "file_extension": ".py",
   "mimetype": "text/x-python",
   "name": "python",
   "nbconvert_exporter": "python",
   "pygments_lexer": "ipython3",
   "version": "3.6.5"
  }
 },
 "nbformat": 4,
 "nbformat_minor": 2
}
